{
 "cells": [
  {
   "cell_type": "markdown",
   "metadata": {},
   "source": [
    "#### 01 선형회귀 - 샘플 코드"
   ]
  },
  {
   "cell_type": "code",
   "execution_count": 1,
   "metadata": {},
   "outputs": [
    {
     "name": "stdout",
     "output_type": "stream",
     "text": [
      "[0.50009091]\n",
      "3.0000909090909094\n",
      "[3.00009091 3.50018182]\n"
     ]
    }
   ],
   "source": [
    "from sklearn.linear_model import LinearRegression\n",
    "\n",
    "# 특징\n",
    "X = [[10.0], [8.0], [13.0], [9.0], [11.0], [14.0],\n",
    "     [6.0], [4.0], [12.0], [7.0], [5.0]]\n",
    "\n",
    "# 종속 변수\n",
    "y = [8.04, 6.95, 7.58, 8.81, 8.33, 9.96,\n",
    "     7.24, 4.26, 10.84, 4.82, 5.68]\n",
    "\n",
    "# 선형회귀 모델 생성 및 학습\n",
    "model = LinearRegression()\n",
    "model.fit(X, y)\n",
    "\n",
    "print(model.coef_)      # 기울기 출력\n",
    "print(model.intercept_) # 절편 출력\n",
    "\n",
    "# x = 0, x = 1일 때 모델의 출력 결과 예측\n",
    "y_pred = model.predict([[0], [1]])\n",
    "\n",
    "# x = 0, x = 1일 때 예측한 y값 출력\n",
    "print(y_pred)"
   ]
  },
  {
   "cell_type": "markdown",
   "metadata": {},
   "source": [
    "#### 02 정규화 - 샘플 코드"
   ]
  },
  {
   "cell_type": "code",
   "execution_count": 2,
   "metadata": {},
   "outputs": [
    {
     "name": "stdout",
     "output_type": "stream",
     "text": [
      "0.2442002705557143\n",
      "0.31121513825371466\n"
     ]
    }
   ],
   "source": [
    "import numpy as np\n",
    "from sklearn.preprocessing import PolynomialFeatures\n",
    "from sklearn.linear_model import Ridge\n",
    "from sklearn.metrics import mean_squared_error\n",
    "\n",
    "# 학습 데이터 개수 설정\n",
    "train_size = 20\n",
    "\n",
    "# 검정 데이터 개수 설정\n",
    "test_size = 12\n",
    "\n",
    "# 학습 및 검정 데이터의 특징으로 사용할 무작위 표본 추출\n",
    "train_X = np.random.uniform(low=0, high=1.2, size=train_size)\n",
    "test_X = np.random.uniform(low=0.1, high=1.3, size=test_size)\n",
    "\n",
    "# 학습 및 검정 데이터의 종속 변수로 사용할 데이터 정의\n",
    "train_y = np.sin(train_X * 2 * np.pi) + np.random.normal(0, 0.2, train_size)\n",
    "test_y = np.sin(test_X * 2 * np.pi) + np.random.normal(0, 0.2, test_size)\n",
    "\n",
    "poly = PolynomialFeatures(6) # 6차식 생성\n",
    "\n",
    "# 6차식에서 학습 데이터의 특징으로 학습한 후 결과를 배열로 변환\n",
    "train_poly_X = poly.fit_transform(train_X.reshape(train_size, 1))\n",
    "test_poly_X = poly.fit_transform(test_X.reshape(test_size, 1))\n",
    "\n",
    "# 능형회귀 모델을 생성하고 6차식 학습 결과와 학습 데이터의 종속 변수로 학습\n",
    "model = Ridge(alpha=1.0)\n",
    "model.fit(train_poly_X, train_y)\n",
    "\n",
    "# 학습 및 검정 데이터를 대상으로 능형회귀로 학습해 만든 모델의 출력 결과 예측\n",
    "train_pred_y = model.predict(train_poly_X)\n",
    "test_pred_y = model.predict(test_poly_X)\n",
    "\n",
    "# 학습 및 검정 데이터를 대상으로 예측한 결과와 종속 변수의 평균제곱오차 계산\n",
    "print(mean_squared_error(train_pred_y, train_y))\n",
    "print(mean_squared_error(test_pred_y, test_y))"
   ]
  },
  {
   "cell_type": "markdown",
   "metadata": {},
   "source": [
    "#### 03 로지스틱 회귀 - 샘플 코드"
   ]
  },
  {
   "cell_type": "code",
   "execution_count": 3,
   "metadata": {},
   "outputs": [
    {
     "data": {
      "text/plain": [
       "array([0.12111922, 0.57199779, 0.92836808])"
      ]
     },
     "execution_count": 3,
     "metadata": {},
     "output_type": "execute_result"
    }
   ],
   "source": [
    "import numpy as np\n",
    "from sklearn.linear_model import LogisticRegression\n",
    "\n",
    "# 특징 데이터 생성\n",
    "X_train = np.r_[np.random.normal(3, 1, size=50),\n",
    "          np.random.normal(-1, 1, size=50)].reshape((100, -1))\n",
    "\n",
    "# 종속 변수 데이터 생성\n",
    "y_train = np.r_[np.ones(50), np.zeros(50)]\n",
    "\n",
    "# 로지스틱 회귀 모델 생성 및 학습과 예측\n",
    "model = LogisticRegression(solver='lbfgs')\n",
    "model.fit(X_train, y_train)\n",
    "model.predict_proba([[0], [1], [2]])[:, 1]"
   ]
  },
  {
   "cell_type": "markdown",
   "metadata": {},
   "source": [
    "#### 04 서포트 백터 머신 - 샘플 코드"
   ]
  },
  {
   "cell_type": "code",
   "execution_count": 4,
   "metadata": {},
   "outputs": [
    {
     "data": {
      "text/plain": [
       "1.0"
      ]
     },
     "execution_count": 4,
     "metadata": {},
     "output_type": "execute_result"
    }
   ],
   "source": [
    "from sklearn.svm import LinearSVC\n",
    "from sklearn.datasets import make_blobs\n",
    "from sklearn.model_selection import train_test_split\n",
    "from sklearn.metrics import accuracy_score\n",
    "\n",
    "# 데이터 분류의 중심 위치 정의\n",
    "centers = [(-1, -0.125), (0.5, 0.5)]\n",
    "\n",
    "# 특징과 종속 변수 생성\n",
    "X, y = make_blobs(n_samples=50, n_features=2, centers=centers, cluster_std=0.3)\n",
    "\n",
    "# 특징과 종속 변수 각각을 학습 데이터와 검증 데이터로 나누기\n",
    "X_train, X_test, y_train, y_test = train_test_split(X, y, test_size=0.3)\n",
    "\n",
    "# 선형 서포트 벡터 머신 모델 생성\n",
    "model = LinearSVC()\n",
    "\n",
    "model.fit(X_train, y_train)    # 학습\n",
    "y_pred = model.predict(X_test) # 예측\n",
    "accuracy_score(y_pred, y_test) # 평가"
   ]
  },
  {
   "cell_type": "markdown",
   "metadata": {},
   "source": [
    "#### 05 커널 기법을 적용한 서포트 벡터 머신 - 샘플 코드"
   ]
  },
  {
   "cell_type": "code",
   "execution_count": 5,
   "metadata": {},
   "outputs": [
    {
     "data": {
      "text/plain": [
       "0.9888888888888889"
      ]
     },
     "execution_count": 5,
     "metadata": {},
     "output_type": "execute_result"
    }
   ],
   "source": [
    "from sklearn.svm import SVC\n",
    "from sklearn.datasets import make_gaussian_quantiles\n",
    "from sklearn.model_selection import train_test_split\n",
    "from sklearn.metrics import accuracy_score\n",
    "\n",
    "# 특징과 종속 변수 생성\n",
    "X, y = make_gaussian_quantiles(n_features=2, n_classes=2, n_samples=300)\n",
    "\n",
    "# 특징과 종속 변수 각각을 학습 데이터와 검증 데이터로 나누기\n",
    "X_train, X_test, y_train, y_test = train_test_split(X, y, test_size=0.3)\n",
    "\n",
    "# 서포트 벡터 머신 모델 생성\n",
    "model = SVC(gamma='auto')\n",
    "\n",
    "model.fit(X_train, y_train)    # 학습\n",
    "y_pred = model.predict(X_test) # 예측\n",
    "accuracy_score(y_pred, y_test) # 평가"
   ]
  },
  {
   "cell_type": "markdown",
   "metadata": {},
   "source": [
    "#### 06 나이브 베이즈 분류 - 샘플 코드"
   ]
  },
  {
   "cell_type": "code",
   "execution_count": 6,
   "metadata": {},
   "outputs": [
    {
     "data": {
      "text/plain": [
       "array([1])"
      ]
     },
     "execution_count": 6,
     "metadata": {},
     "output_type": "execute_result"
    }
   ],
   "source": [
    "from sklearn.naive_bayes import MultinomialNB\n",
    "\n",
    "# 특징의 학습 데이터 생성\n",
    "X_train = [[1, 1, 0, 0, 0, 1, 0, 0, 0, 0, 0],\n",
    "           [0, 1, 1, 1, 0, 0, 0, 0, 0, 0, 0],\n",
    "           [1, 0, 0, 0, 1, 1, 0, 0, 0, 0, 0],\n",
    "           [0, 0, 0, 0, 0, 0, 1, 1, 0, 0, 0],\n",
    "           [0, 0, 0, 0, 0, 0, 0, 1, 1, 1, 0],\n",
    "           [0, 0, 0, 0, 0, 1, 0, 1, 1, 0, 1]]\n",
    "\n",
    "# 종속 변수의 학습 데이터 생성\n",
    "y_train = [1, 1, 1, 0, 0, 0]\n",
    "\n",
    "# 나이브 베이즈 분류 모델 생성\n",
    "model = MultinomialNB()\n",
    "\n",
    "model.fit(X_train, y_train) # 학습\n",
    "model.predict([[1, 0, 0, 1, 0, 1, 0, 0, 0, 0, 0]]) # 평가"
   ]
  },
  {
   "cell_type": "markdown",
   "metadata": {},
   "source": [
    "#### 07 랜덤 포레스트 - 샘플 코드"
   ]
  },
  {
   "cell_type": "code",
   "execution_count": 7,
   "metadata": {},
   "outputs": [
    {
     "data": {
      "text/plain": [
       "0.9444444444444444"
      ]
     },
     "execution_count": 7,
     "metadata": {},
     "output_type": "execute_result"
    }
   ],
   "source": [
    "from sklearn.datasets import load_wine\n",
    "from sklearn.ensemble import RandomForestClassifier\n",
    "from sklearn.model_selection import train_test_split\n",
    "from sklearn.metrics import accuracy_score\n",
    "\n",
    "# 와인 데이터세트 불러오기\n",
    "data = load_wine()\n",
    "\n",
    "# 특징과 종속 변수 각각을 학습 데이터와 검정 데이터로 나누기\n",
    "X_train, X_test, y_train, y_test = train_test_split(data.data, data.target, test_size=0.3)\n",
    "\n",
    "# 랜덤 포레스트 모델 생성\n",
    "model = RandomForestClassifier(n_estimators=10)\n",
    "\n",
    "model.fit(X_train, y_train)    # 학습\n",
    "y_pred = model.predict(X_test) # 예측\n",
    "accuracy_score(y_pred, y_test) # 평가"
   ]
  },
  {
   "cell_type": "markdown",
   "metadata": {},
   "source": [
    "#### 08 신경망 - 샘플 코드"
   ]
  },
  {
   "cell_type": "code",
   "execution_count": 8,
   "metadata": {},
   "outputs": [
    {
     "data": {
      "text/plain": [
       "0.937037037037037"
      ]
     },
     "execution_count": 8,
     "metadata": {},
     "output_type": "execute_result"
    }
   ],
   "source": [
    "from sklearn.datasets import load_digits\n",
    "from sklearn.neural_network import MLPClassifier\n",
    "from sklearn.model_selection import train_test_split\n",
    "from sklearn.metrics import accuracy_score\n",
    "\n",
    "# NIST 데이터세트 불러오기\n",
    "data = load_digits()\n",
    "\n",
    "# 특징 설정\n",
    "X = data.images.reshape(len(data.images), -1)\n",
    "\n",
    "# 종속 변수 설정\n",
    "y = data.target\n",
    "\n",
    "# 특징과 종속 변수 각각을 학습 데이터와 검정 데이터로 나누기\n",
    "X_train, X_test, y_train, y_test = train_test_split(X, y, test_size=0.3)\n",
    "\n",
    "# 다층 퍼셉트론 분류 모델 생성\n",
    "model = MLPClassifier(hidden_layer_sizes=(16, ), max_iter=1000)\n",
    "\n",
    "model.fit(X_train, y_train)    # 학습\n",
    "y_pred = model.predict(X_test) # 예측\n",
    "accuracy_score(y_pred, y_test) # 평가"
   ]
  },
  {
   "cell_type": "markdown",
   "metadata": {},
   "source": [
    "#### 09 k 최근접 이웃 알고리즘 - 샘플 코드"
   ]
  },
  {
   "cell_type": "code",
   "execution_count": 9,
   "metadata": {},
   "outputs": [
    {
     "data": {
      "text/plain": [
       "0.9666666666666667"
      ]
     },
     "execution_count": 9,
     "metadata": {},
     "output_type": "execute_result"
    }
   ],
   "source": [
    "from sklearn.neighbors import KNeighborsClassifier\n",
    "from sklearn.datasets import make_moons\n",
    "from sklearn.model_selection import train_test_split\n",
    "from sklearn.metrics import accuracy_score\n",
    "\n",
    "# 특징 및 종속 변수 데이터 생성\n",
    "X, y = make_moons(noise=0.3)\n",
    "\n",
    "# 특징과 종속 변수 각각을 학습 데이터와 검정 데이터로 나누기\n",
    "X_train, X_test, y_train, y_test = train_test_split(X, y, test_size=0.3)\n",
    "\n",
    "# kNN 모델 생성\n",
    "model = KNeighborsClassifier(n_neighbors=5)\n",
    "\n",
    "model.fit(X_train, y_train)    # 학습\n",
    "y_pred = model.predict(X_test) # 예측\n",
    "accuracy_score(y_pred, y_test) # 평가"
   ]
  }
 ],
 "metadata": {
  "kernelspec": {
   "display_name": "Python 3",
   "language": "python",
   "name": "python3"
  },
  "language_info": {
   "codemirror_mode": {
    "name": "ipython",
    "version": 3
   },
   "file_extension": ".py",
   "mimetype": "text/x-python",
   "name": "python",
   "nbconvert_exporter": "python",
   "pygments_lexer": "ipython3",
   "version": "3.7.5"
  }
 },
 "nbformat": 4,
 "nbformat_minor": 2
}
