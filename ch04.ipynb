{
 "cells": [
  {
   "cell_type": "markdown",
   "metadata": {},
   "source": [
    "#### 분류 문제의 평가 방법 - 샘플 코드"
   ]
  },
  {
   "cell_type": "code",
   "execution_count": 1,
   "metadata": {},
   "outputs": [],
   "source": [
    "from sklearn.datasets import load_breast_cancer\n",
    "\n",
    "# 유방암 진단 데이터세트 불러오기\n",
    "data = load_breast_cancer()\n",
    "\n",
    "# 특징 데이터 생성\n",
    "X = data.data\n",
    "\n",
    "# 종속 변수 생성. 악성 발견이 목적이므로 레이블의 0과 1을 바꿈\n",
    "y = 1 - data.target\n",
    "\n",
    "# 특징으로 사용할 데이터를 평균으로 구분하는 10개 열로 줄임\n",
    "X = X[:, :10]\n",
    "\n",
    "from sklearn.linear_model import LogisticRegression\n",
    "\n",
    "# 로지스틱 회귀 모델 생성\n",
    "model_lor = LogisticRegression(solver='lbfgs')\n",
    "\n",
    "model_lor.fit(X, y)           # 학습\n",
    "y_pred = model_lor.predict(X) # 예측"
   ]
  },
  {
   "cell_type": "markdown",
   "metadata": {},
   "source": [
    "#### 혼동 행렬 - 샘플 코드"
   ]
  },
  {
   "cell_type": "code",
   "execution_count": 2,
   "metadata": {},
   "outputs": [
    {
     "name": "stdout",
     "output_type": "stream",
     "text": [
      "[[337  20]\n",
      " [ 30 182]]\n"
     ]
    }
   ],
   "source": [
    "from sklearn.metrics import confusion_matrix\n",
    "\n",
    "# 종속 변수와 예측 결과로 혼동 행렬 생성\n",
    "cm = confusion_matrix(y, y_pred)\n",
    "\n",
    "print(cm)"
   ]
  },
  {
   "cell_type": "markdown",
   "metadata": {},
   "source": [
    "#### 정확도 - 샘플 코드"
   ]
  },
  {
   "cell_type": "code",
   "execution_count": 3,
   "metadata": {},
   "outputs": [
    {
     "name": "stdout",
     "output_type": "stream",
     "text": [
      "0.9121265377855887\n"
     ]
    }
   ],
   "source": [
    "from sklearn.metrics import accuracy_score\n",
    "\n",
    "# 종속 변수와 예측 결과로 정확도 계산\n",
    "print(accuracy_score(y, y_pred))"
   ]
  },
  {
   "cell_type": "markdown",
   "metadata": {},
   "source": [
    "#### 정밀도 - 샘플 코드"
   ]
  },
  {
   "cell_type": "code",
   "execution_count": 4,
   "metadata": {},
   "outputs": [
    {
     "name": "stdout",
     "output_type": "stream",
     "text": [
      "0.900990099009901\n"
     ]
    }
   ],
   "source": [
    "from sklearn.metrics import precision_score\n",
    "\n",
    "# 종속 변수와 예측 결과로 정밀도 계산\n",
    "print(precision_score(y, y_pred))"
   ]
  },
  {
   "cell_type": "markdown",
   "metadata": {},
   "source": [
    "#### 재현율 - 샘플 코드"
   ]
  },
  {
   "cell_type": "code",
   "execution_count": 5,
   "metadata": {},
   "outputs": [
    {
     "name": "stdout",
     "output_type": "stream",
     "text": [
      "0.8584905660377359\n"
     ]
    }
   ],
   "source": [
    "from sklearn.metrics import recall_score\n",
    "\n",
    "# 종속 변수와 예측 결과로 재현율 계산\n",
    "print(recall_score(y, y_pred))"
   ]
  },
  {
   "cell_type": "markdown",
   "metadata": {},
   "source": [
    "#### F값 - 샘플 코드"
   ]
  },
  {
   "cell_type": "code",
   "execution_count": 6,
   "metadata": {},
   "outputs": [
    {
     "name": "stdout",
     "output_type": "stream",
     "text": [
      "0.8792270531400966\n"
     ]
    }
   ],
   "source": [
    "from sklearn.metrics import f1_score\n",
    "\n",
    "# 종속 변수와 예측 결과로 F값 계산\n",
    "print(f1_score(y, y_pred))"
   ]
  },
  {
   "cell_type": "markdown",
   "metadata": {},
   "source": [
    "#### 예측 확률 - 샘플 코드 1"
   ]
  },
  {
   "cell_type": "code",
   "execution_count": 7,
   "metadata": {},
   "outputs": [
    {
     "data": {
      "text/plain": [
       "array([[7.67416961e-03, 9.92325830e-01],\n",
       "       [2.03140599e-02, 9.79685940e-01],\n",
       "       [2.34637374e-03, 9.97653626e-01],\n",
       "       ...,\n",
       "       [2.35217086e-02, 9.76478291e-01],\n",
       "       [8.13271338e-06, 9.99991867e-01],\n",
       "       [9.99572336e-01, 4.27663645e-04]])"
      ]
     },
     "execution_count": 7,
     "metadata": {},
     "output_type": "execute_result"
    }
   ],
   "source": [
    "# 특징 데이터의 예측 확률 계산\n",
    "model_lor.predict_proba(X)"
   ]
  },
  {
   "cell_type": "markdown",
   "metadata": {},
   "source": [
    "#### 예측 확률 - 샘플 코드 2"
   ]
  },
  {
   "cell_type": "code",
   "execution_count": 8,
   "metadata": {},
   "outputs": [
    {
     "name": "stdout",
     "output_type": "stream",
     "text": [
      "[[267  90]\n",
      " [  6 206]]\n"
     ]
    }
   ],
   "source": [
    "import numpy as np\n",
    "\n",
    "# 예측 확률 중 두 번째 요소가 10% 이상인 값 개수를 np.int 타입으로 변환해 저장\n",
    "y_pred2 = (model_lor.predict_proba(X)[:, 1]>0.1).astype(np.int)\n",
    "\n",
    "# 종속 변수와 예측 확률로 혼동 행렬 생성\n",
    "print(confusion_matrix(y, y_pred2))"
   ]
  },
  {
   "cell_type": "markdown",
   "metadata": {},
   "source": [
    "#### 예측 확률 - 샘플 코드 3"
   ]
  },
  {
   "cell_type": "code",
   "execution_count": 9,
   "metadata": {},
   "outputs": [
    {
     "name": "stdout",
     "output_type": "stream",
     "text": [
      "0.8312829525483304\n",
      "0.9716981132075472\n"
     ]
    }
   ],
   "source": [
    "# 종속 변수와 예측 확률로 정확도를 계산해 출력\n",
    "print(accuracy_score(y, y_pred2))\n",
    "\n",
    "# 종속 변수와 예측 확률로 재현율을 계산해 출력\n",
    "print(recall_score(y, y_pred2))"
   ]
  },
  {
   "cell_type": "markdown",
   "metadata": {},
   "source": [
    "#### ROC 곡선과 곡선아래면적 - 샘플 코드 1"
   ]
  },
  {
   "cell_type": "code",
   "execution_count": 10,
   "metadata": {},
   "outputs": [],
   "source": [
    "from sklearn.metrics import roc_curve\n",
    "\n",
    "# 유방암 진단 데이터세트 특징 데이터의 예측 확률 계산\n",
    "probas = model_lor.predict_proba(X)\n",
    "\n",
    "# 종속 변수와 예측 확률의 두 번째 요소로 ROC 곡선을 생성하고 위양성률, 진양성률, 기준값 저장\n",
    "fpr, tpr, thresholds = roc_curve(y, probas[:, 1])"
   ]
  },
  {
   "cell_type": "markdown",
   "metadata": {},
   "source": [
    "#### ROC 곡선과 곡선아래면적 - 샘플 코드 2"
   ]
  },
  {
   "cell_type": "code",
   "execution_count": 11,
   "metadata": {
    "scrolled": true
   },
   "outputs": [
    {
     "data": {
      "image/png": "[encoded data removed]",
      "text/plain": [
       "<Figure size 345.6x360 with 1 Axes>"
      ]
     },
     "metadata": {},
     "output_type": "display_data"
    }
   ],
   "source": [
    "%matplotlib inline\n",
    "import matplotlib.pyplot as plt\n",
    "\n",
    "# ROC 곡선의 그래프 영역 스타일 지정\n",
    "plt.style.use('fivethirtyeight')\n",
    "\n",
    "# 캔버스와 좌표 평면 생성\n",
    "fig, ax = plt.subplots()\n",
    "\n",
    "# 그래프 영역의 크기 설정\n",
    "fig.set_size_inches(4.8, 5)\n",
    "\n",
    "# 그래프의 선을 이루는 값과 선 색상 설정\n",
    "ax.step(fpr, tpr, 'gray')\n",
    "\n",
    "# 그래프의 선을 기준으로 곡선아래면적을 skyblue로 채우도록 설정\n",
    "ax.fill_between(fpr, tpr, 0, color='skyblue', alpha=0.8)\n",
    "\n",
    "# x축 레이블 설정\n",
    "ax.set_xlabel('False Positive Rate')\n",
    "\n",
    "# y축 레이블 설정\n",
    "ax.set_ylabel('True Positive Rate')\n",
    "\n",
    "# 그래프 영역 배경색 설정\n",
    "ax.set_facecolor('xkcd:white')\n",
    "\n",
    "# 최종 그래프 생성\n",
    "plt.show()"
   ]
  },
  {
   "cell_type": "markdown",
   "metadata": {},
   "source": [
    "#### ROC 곡선과 곡선아래면적 - 샘플 코드 3"
   ]
  },
  {
   "cell_type": "code",
   "execution_count": 12,
   "metadata": {},
   "outputs": [
    {
     "data": {
      "text/plain": [
       "0.9741557000158554"
      ]
     },
     "execution_count": 12,
     "metadata": {},
     "output_type": "execute_result"
    }
   ],
   "source": [
    "from sklearn.metrics import roc_auc_score\n",
    "\n",
    "# 종속 변수와 예측 확률의 두 번째 요소로 곡선아래면적 계산\n",
    "roc_auc_score(y, probas[:, 1])"
   ]
  },
  {
   "cell_type": "markdown",
   "metadata": {},
   "source": [
    "#### 회귀 문제의 평가 방법 - 샘플 코드 1"
   ]
  },
  {
   "cell_type": "code",
   "execution_count": 13,
   "metadata": {},
   "outputs": [],
   "source": [
    "from sklearn.datasets import load_boston\n",
    "\n",
    "# 보스턴 주택 가격 데이터 세트 불러오기\n",
    "data = load_boston()\n",
    "\n",
    "# RM 열만 있는 특징 데이터 생성\n",
    "X = data.data[:, [5, ]]\n",
    "\n",
    "# 종속 변수 생성\n",
    "y = data.target"
   ]
  },
  {
   "cell_type": "markdown",
   "metadata": {},
   "source": [
    "#### 회귀 문제의 평가 방법 - 샘플 코드 2"
   ]
  },
  {
   "cell_type": "code",
   "execution_count": 14,
   "metadata": {},
   "outputs": [],
   "source": [
    "from sklearn.linear_model import LinearRegression\n",
    "\n",
    "# 선형회귀 모델 생성\n",
    "model_lir = LinearRegression()\n",
    "\n",
    "model_lir.fit(X, y)           # 학습\n",
    "y_pred = model_lir.predict(X) # 예측"
   ]
  },
  {
   "cell_type": "markdown",
   "metadata": {},
   "source": [
    "#### 회귀 문제의 평가 방법 - 샘플 코드 3"
   ]
  },
  {
   "cell_type": "code",
   "execution_count": 15,
   "metadata": {},
   "outputs": [
    {
     "name": "stdout",
     "output_type": "stream",
     "text": [
      "[9.10210898]\n",
      "-34.67062077643857\n"
     ]
    }
   ],
   "source": [
    "print(model_lir.coef_)      # 기울기 출력\n",
    "print(model_lir.intercept_) # 절편 출력"
   ]
  },
  {
   "cell_type": "markdown",
   "metadata": {},
   "source": [
    "#### 회귀 문제의 평가 방법 - 샘플 코드 4"
   ]
  },
  {
   "cell_type": "code",
   "execution_count": 16,
   "metadata": {},
   "outputs": [
    {
     "data": {
      "image/png": "[encoded data removed]",
      "text/plain": [
       "<Figure size 432x288 with 1 Axes>"
      ]
     },
     "metadata": {
      "needs_background": "light"
     },
     "output_type": "display_data"
    }
   ],
   "source": [
    "%matplotlib inline\n",
    "import matplotlib.pyplot as plt\n",
    "\n",
    "# 캔버스와 좌표 평면 생성\n",
    "fig, ax = plt.subplots()\n",
    "\n",
    "# 특징과 종속 변수로 data set라는 레이블을 설정한 분홍색 산점도 출력\n",
    "ax.scatter(X, y, color='pink', marker='s', label='data set')\n",
    "\n",
    "# 특징과 예측 결과로 regresssion curve라는 레이블을 설정한 파란색 회귀선 생성\n",
    "ax.plot(X, y_pred, color='blue', label='regression curve')\n",
    "\n",
    "# 레이블 배치\n",
    "ax.legend()\n",
    "\n",
    "# 최종 그래프 생성\n",
    "plt.show()"
   ]
  },
  {
   "cell_type": "markdown",
   "metadata": {},
   "source": [
    "#### 평균제곱오차 - 샘플 코드"
   ]
  },
  {
   "cell_type": "code",
   "execution_count": 17,
   "metadata": {},
   "outputs": [
    {
     "name": "stdout",
     "output_type": "stream",
     "text": [
      "43.60055177116956\n"
     ]
    }
   ],
   "source": [
    "from sklearn.metrics import mean_squared_error\n",
    "\n",
    "# 종속 변수와 예측 결과로 평균제곱오차 계산\n",
    "print(mean_squared_error(y, y_pred))"
   ]
  },
  {
   "cell_type": "markdown",
   "metadata": {},
   "source": [
    "#### 결정계수 - 샘플 코드"
   ]
  },
  {
   "cell_type": "code",
   "execution_count": 18,
   "metadata": {},
   "outputs": [
    {
     "name": "stdout",
     "output_type": "stream",
     "text": [
      "0.48352545599133423\n"
     ]
    }
   ],
   "source": [
    "from sklearn.metrics import r2_score\n",
    "\n",
    "# 종속 변수와 예측 결과로 결정계수 계산\n",
    "print(r2_score(y, y_pred))"
   ]
  },
  {
   "cell_type": "markdown",
   "metadata": {},
   "source": [
    "#### 다른 알고리즘을 이용할 때와 비교 - 샘플 코드 1"
   ]
  },
  {
   "cell_type": "code",
   "execution_count": 19,
   "metadata": {},
   "outputs": [],
   "source": [
    "from sklearn.svm import SVR\n",
    "\n",
    "# 서포트 벡터 회귀 모델을 생성\n",
    "model_svr_linear = SVR(C=0.01, kernel='linear')\n",
    "\n",
    "model_svr_linear.fit(X, y) # 학습\n",
    "y_svr_pred = model_svr_linear.predict(X) # 예측"
   ]
  },
  {
   "cell_type": "markdown",
   "metadata": {},
   "source": [
    "#### 다른 알고리즘을 이용할 때와 비교 - 샘플 코드 2"
   ]
  },
  {
   "cell_type": "code",
   "execution_count": 20,
   "metadata": {
    "scrolled": true
   },
   "outputs": [
    {
     "data": {
      "image/png": "[encoded data removed]",
      "text/plain": [
       "<Figure size 432x288 with 1 Axes>"
      ]
     },
     "metadata": {
      "needs_background": "light"
     },
     "output_type": "display_data"
    }
   ],
   "source": [
    "%matplotlib inline\n",
    "import matplotlib.pyplot as plt\n",
    "\n",
    "# 캔버스와 좌표 평면 생성\n",
    "fig, ax = plt.subplots()\n",
    "\n",
    "# 특징과 종속 변수로 data set라는 레이블을 설정한 분홍색 산점도 출력\n",
    "ax.scatter(X, y, color='pink', marker='s', label='data set')\n",
    "\n",
    "# 특징과 선형회귀 예측 결과로 regresssion curve라는 레이블을 설정한 파란색 회귀선 생성\n",
    "ax.plot(X, y_pred, color='blue', label='regression curve')\n",
    "\n",
    "# 특징과 서포트 벡터 회귀 예측 결과로 SVR이라는 레이블을 설정한 붉은색 회귀선 생성\n",
    "ax.plot(X, y_svr_pred, color='red', label='SVR')\n",
    "\n",
    "ax.legend()\n",
    "\n",
    "plt.show()"
   ]
  },
  {
   "cell_type": "markdown",
   "metadata": {},
   "source": [
    "#### 다른 알고리즘을 이용할 때와 비교 - 샘플 코드 3"
   ]
  },
  {
   "cell_type": "code",
   "execution_count": 21,
   "metadata": {},
   "outputs": [
    {
     "name": "stdout",
     "output_type": "stream",
     "text": [
      "72.14197118147209\n",
      "0.14543531775956597\n",
      "[[1.64398]]\n",
      "[11.13520958]\n"
     ]
    }
   ],
   "source": [
    "print(mean_squared_error(y, y_svr_pred)) # 평균제곱오차 출력\n",
    "print(r2_score(y, y_svr_pred))           # 결정계수 출력\n",
    "print(model_svr_linear.coef_)            # 기울기 출력\n",
    "print(model_svr_linear.intercept_)       # 절편 출력"
   ]
  },
  {
   "cell_type": "markdown",
   "metadata": {},
   "source": [
    "#### 하이퍼 파라미터 설정 - 샘플 코드"
   ]
  },
  {
   "cell_type": "code",
   "execution_count": 22,
   "metadata": {},
   "outputs": [
    {
     "name": "stdout",
     "output_type": "stream",
     "text": [
      "36.42126375260171\n",
      "0.5685684051071418\n"
     ]
    }
   ],
   "source": [
    "# C와 kernel 인잣값을 바꾸고 gamma 인자를 추가해 서포트 벡터 회귀 모델 생성\n",
    "model_svr_rbf = SVR(C=1.0, kernel='rbf', gamma='auto')\n",
    "\n",
    "model_svr_rbf.fit(X, y) # 학습\n",
    "y_svr_pred = model_svr_rbf.predict(X) # 예측\n",
    "\n",
    "print(mean_squared_error(y, y_svr_pred)) # 평균제곱오차 출력\n",
    "print(r2_score(y, y_svr_pred))           # 결정계수 출력"
   ]
  },
  {
   "cell_type": "markdown",
   "metadata": {},
   "source": [
    "#### 모델의 과적합 - 샘플 코드"
   ]
  },
  {
   "cell_type": "code",
   "execution_count": 23,
   "metadata": {},
   "outputs": [
    {
     "name": "stdout",
     "output_type": "stream",
     "text": [
      "69.16928620453004\n",
      "-1.4478345530124388\n"
     ]
    }
   ],
   "source": [
    "# 특징의 학습 데이터와 검정 데이터 생성\n",
    "train_X, test_X = X[:400], X[400:]\n",
    "\n",
    "# 종속 변수의 학습 데이터와 검정 데이터 생성\n",
    "train_y, test_y = y[:400], y[400:]\n",
    "\n",
    "# 서포트 벡터 회귀 모델 생성\n",
    "model_svr_rbf_1 = SVR(C=1.0, kernel='rbf', gamma='auto')\n",
    "\n",
    "model_svr_rbf_1.fit(train_X, train_y)         # 학습\n",
    "test_y_pred = model_svr_rbf_1.predict(test_X) # 특징의 검정 데이터로 예측\n",
    "\n",
    "print(mean_squared_error(test_y, test_y_pred)) # 평균제곱오차 출력\n",
    "print(r2_score(test_y, test_y_pred))           # 결정계수 출력"
   ]
  },
  {
   "cell_type": "markdown",
   "metadata": {},
   "source": [
    "#### 학습 데이터와 검정 데이터 나누기 - 샘플 코드 1"
   ]
  },
  {
   "cell_type": "code",
   "execution_count": 24,
   "metadata": {},
   "outputs": [],
   "source": [
    "from sklearn.datasets import load_breast_cancer\n",
    "\n",
    "# 유방암 진단 데이터세트 불러오기\n",
    "data = load_breast_cancer()\n",
    "\n",
    "# 특징 데이터 생성\n",
    "X = data.data\n",
    "\n",
    "# 종속 변수 데이터 생성\n",
    "y = data.target\n",
    "\n",
    "from sklearn.model_selection import train_test_split\n",
    "\n",
    "# 특징과 종속 변수 데이터를 학습 데이터와 검정 데이터로 나누기\n",
    "X_train, X_test, y_train, y_test = train_test_split(X, y, test_size=0.3)"
   ]
  },
  {
   "cell_type": "markdown",
   "metadata": {},
   "source": [
    "#### 학습 데이터와 검정 데이터 나누기 - 샘플 코드 2"
   ]
  },
  {
   "cell_type": "code",
   "execution_count": 25,
   "metadata": {},
   "outputs": [
    {
     "name": "stdout",
     "output_type": "stream",
     "text": [
      "1.0\n",
      "0.6081871345029239\n"
     ]
    }
   ],
   "source": [
    "from sklearn.svm import SVC\n",
    "\n",
    "# 서포트 벡터 머신 모델 생성\n",
    "model_svc = SVC(gamma='auto')\n",
    "\n",
    "model_svc.fit(X_train, y_train) # 학습\n",
    "\n",
    "# 학습 데이터의 특징으로 예측\n",
    "y_train_pred = model_svc.predict(X_train)\n",
    "\n",
    " # 검정 데이터의 특징으로 예측\n",
    "y_test_pred = model_svc.predict(X_test)\n",
    "\n",
    "from sklearn.metrics import accuracy_score\n",
    "\n",
    "# 학습 데이터의 종속 변수와 예측 결과로 정확도 계산\n",
    "print(accuracy_score(y_train, y_train_pred))\n",
    "\n",
    "# 검정 데이터의 종속 변수와 예측 결과로 정확도 계산\n",
    "print(accuracy_score(y_test, y_test_pred))"
   ]
  },
  {
   "cell_type": "markdown",
   "metadata": {},
   "source": [
    "#### 학습 데이터와 검정 데이터 나누기 - 샘플 코드 3"
   ]
  },
  {
   "cell_type": "code",
   "execution_count": 26,
   "metadata": {},
   "outputs": [
    {
     "name": "stdout",
     "output_type": "stream",
     "text": [
      "0.9949748743718593\n",
      "0.9415204678362573\n"
     ]
    }
   ],
   "source": [
    "from sklearn.ensemble import RandomForestClassifier\n",
    "\n",
    "# 랜덤 포레스트 모델 생성\n",
    "model_rfc = RandomForestClassifier(n_estimators=10)\n",
    "\n",
    "model_rfc.fit(X_train, y_train) # 학습\n",
    "\n",
    "# 학습 데이터의 특징으로 예측\n",
    "y_train_pred = model_rfc.predict(X_train)\n",
    "\n",
    "# 검정 데이터의 특징으로 예측\n",
    "y_test_pred = model_rfc.predict(X_test)\n",
    "\n",
    "from sklearn.metrics import accuracy_score\n",
    "\n",
    "# 학습 데이터의 종속 변수와 예측 결과로 정확도 계산\n",
    "print(accuracy_score(y_train, y_train_pred))\n",
    "\n",
    "# 검정 데이터의 종속 변수와 예측 결과로 정확도 계산\n",
    "print(accuracy_score(y_test, y_test_pred))"
   ]
  },
  {
   "cell_type": "markdown",
   "metadata": {},
   "source": [
    "#### 교차 검증 - 샘플 코드 1"
   ]
  },
  {
   "cell_type": "code",
   "execution_count": 27,
   "metadata": {},
   "outputs": [
    {
     "data": {
      "text/plain": [
       "array([0.94736842, 0.93859649, 0.92982456, 0.93859649, 0.96460177])"
      ]
     },
     "execution_count": 27,
     "metadata": {},
     "output_type": "execute_result"
    }
   ],
   "source": [
    "from sklearn.model_selection import cross_val_score\n",
    "from sklearn.model_selection import KFold\n",
    "\n",
    "# 학습 및 검정 데이터를 대상으로 패턴 5개 생성\n",
    "cv = KFold(5, shuffle=True)\n",
    "\n",
    "# 랜덤 포레스트 모델 생성\n",
    "model_rfc_1 = RandomForestClassifier(n_estimators=10)\n",
    "\n",
    "# 교차 검증을 반복해 정확도 계산\n",
    "cross_val_score(model_rfc_1, X, y, cv=cv, scoring='accuracy')"
   ]
  },
  {
   "cell_type": "markdown",
   "metadata": {},
   "source": [
    "#### 교차 검증 - 샘플 코드 2"
   ]
  },
  {
   "cell_type": "code",
   "execution_count": 28,
   "metadata": {},
   "outputs": [
    {
     "data": {
      "text/plain": [
       "array([0.97183099, 0.97101449, 0.96350365, 0.95302013, 0.96644295])"
      ]
     },
     "execution_count": 28,
     "metadata": {},
     "output_type": "execute_result"
    }
   ],
   "source": [
    "cross_val_score(model_rfc_1, X, y, cv=cv, scoring='f1')"
   ]
  },
  {
   "cell_type": "markdown",
   "metadata": {},
   "source": [
    "#### 그리드 탐색으로 하이퍼 파라미터 선택하기 - 샘플 코드 1"
   ]
  },
  {
   "cell_type": "code",
   "execution_count": 29,
   "metadata": {},
   "outputs": [],
   "source": [
    "from sklearn.datasets import load_breast_cancer\n",
    "\n",
    "# 유방암 진단 데이터세트 불러오기\n",
    "data = load_breast_cancer()\n",
    "\n",
    "# 특징 데이터 생성\n",
    "X = data.data\n",
    "\n",
    "# 종속 변수 생성. 레이블의 0과 1을 바꿈\n",
    "y = 1 - data.target\n",
    "\n",
    "# 특징으로 사용할 데이터를 평균으로 구분하는 10개 열로 줄임\n",
    "X = X[:, :10]"
   ]
  },
  {
   "cell_type": "markdown",
   "metadata": {},
   "source": [
    "#### 그리드 탐색으로 하이퍼 파라미터 선택하기 - 샘플 코드 2"
   ]
  },
  {
   "cell_type": "code",
   "execution_count": 30,
   "metadata": {},
   "outputs": [
    {
     "data": {
      "text/plain": [
       "GridSearchCV(cv=KFold(n_splits=5, random_state=None, shuffle=True),\n",
       "             error_score='raise-deprecating',\n",
       "             estimator=RandomForestClassifier(bootstrap=True, class_weight=None,\n",
       "                                              criterion='gini', max_depth=None,\n",
       "                                              max_features='auto',\n",
       "                                              max_leaf_nodes=None,\n",
       "                                              min_impurity_decrease=0.0,\n",
       "                                              min_impurity_split=None,\n",
       "                                              min_samples_leaf=1,\n",
       "                                              min_samples_split=2,\n",
       "                                              min_weight_fraction_leaf=0.0,\n",
       "                                              n_estimators='warn', n_jobs=None,\n",
       "                                              oob_score=False,\n",
       "                                              random_state=None, verbose=0,\n",
       "                                              warm_start=False),\n",
       "             iid='warn', n_jobs=None,\n",
       "             param_grid={'max_depth': [5, 10, 15],\n",
       "                         'n_estimators': [10, 20, 30]},\n",
       "             pre_dispatch='2*n_jobs', refit=True, return_train_score=False,\n",
       "             scoring='accuracy', verbose=0)"
      ]
     },
     "execution_count": 30,
     "metadata": {},
     "output_type": "execute_result"
    }
   ],
   "source": [
    "from sklearn.ensemble import RandomForestClassifier\n",
    "from sklearn.model_selection import GridSearchCV\n",
    "from sklearn.model_selection import KFold\n",
    "\n",
    "# 학습 및 검정 데이터를 대상으로 패턴 5개 생성\n",
    "cv = KFold(5, shuffle=True)\n",
    "\n",
    "# 그리드 탐색할 하이퍼 파라미터 목록 설정\n",
    "param_grid = {'max_depth': [5, 10, 15], 'n_estimators': [10, 20, 30]}\n",
    "\n",
    "# 랜덤 포레스트 모델 생성\n",
    "model_rfc_2 = RandomForestClassifier()\n",
    "\n",
    "# 그리드 탐색으로 하이퍼 파라미터 조합 탐색\n",
    "grid_search = GridSearchCV(model_rfc_2, param_grid, cv=cv, scoring='accuracy')\n",
    "\n",
    "# 탐색한 하이퍼 파라미터로 학습\n",
    "grid_search.fit(X, y)"
   ]
  },
  {
   "cell_type": "markdown",
   "metadata": {},
   "source": [
    "#### 그리드 탐색으로 하이퍼 파라미터 선택하기 - 샘플 코드 3"
   ]
  },
  {
   "cell_type": "code",
   "execution_count": 31,
   "metadata": {},
   "outputs": [
    {
     "name": "stdout",
     "output_type": "stream",
     "text": [
      "0.9472759226713533\n",
      "{'max_depth': 5, 'n_estimators': 30}\n"
     ]
    }
   ],
   "source": [
    "# 가장 좋은 정확도 출력\n",
    "print(grid_search.best_score_)\n",
    "\n",
    "# 가장 좋은 정확도일 때 하이퍼 파라미터값 출력\n",
    "print(grid_search.best_params_)"
   ]
  },
  {
   "cell_type": "markdown",
   "metadata": {},
   "source": [
    "#### 그리드 탐색으로 하이퍼 파라미터 선택하기 - 샘플 코드 4"
   ]
  },
  {
   "cell_type": "code",
   "execution_count": 32,
   "metadata": {},
   "outputs": [],
   "source": [
    "# 성능을 평가하는 방법을 F값으로 변경\n",
    "grid_search = GridSearchCV(model_rfc_2, param_grid, cv=cv, scoring='f1')"
   ]
  },
  {
   "cell_type": "markdown",
   "metadata": {},
   "source": [
    "#### 머신러닝 모델에 적용 - 샘플 코드 1"
   ]
  },
  {
   "cell_type": "code",
   "execution_count": 33,
   "metadata": {},
   "outputs": [],
   "source": [
    "import numpy as np\n",
    "from sklearn.feature_extraction.text import CountVectorizer, TfidfVectorizer\n",
    "from sklearn.svm import LinearSVC\n",
    "from sklearn.datasets import fetch_20newsgroups\n",
    "\n",
    "# 문서 데이터로 사용할 뉴스 그룹 테마 설정\n",
    "categories = ['alt.atheism', 'soc.religion.christian', 'comp.graphics', 'sci.med']\n",
    "\n",
    "# 본문 이외의 뉴스 그룹 게시물 데이터 제거\n",
    "remove = ('headers', 'footers', 'quotes')\n",
    "\n",
    "# 학습 데이터 설정\n",
    "twenty_train = fetch_20newsgroups(subset='train', remove=remove, categories=categories)\n",
    "\n",
    "# 검정 데이터 설정\n",
    "twenty_test = fetch_20newsgroups(subset='test', remove=remove, categories=categories)"
   ]
  },
  {
   "cell_type": "markdown",
   "metadata": {},
   "source": [
    "#### 머신러닝 모델에 적용 - 샘플 코드 2"
   ]
  },
  {
   "cell_type": "code",
   "execution_count": 34,
   "metadata": {},
   "outputs": [
    {
     "name": "stdout",
     "output_type": "stream",
     "text": [
      "0.7423435419440746\n"
     ]
    }
   ],
   "source": [
    "# 문서 데이터를 단어 빈도 수로 변환하는 모델 생성\n",
    "count_vect = CountVectorizer()\n",
    "\n",
    "# 학습 데이터에서 단어 빈도 수의 특징을 생성하고 학습 후 변환\n",
    "X_train_counts = count_vect.fit_transform(twenty_train.data)\n",
    "\n",
    "# 검정 데이터에서 단어 빈도 수의 특징을 생성하고 검정 후 변환\n",
    "X_test_count = count_vect.transform(twenty_test.data)\n",
    "\n",
    "# 선형 서포트 벡터 머신 모델 생성\n",
    "model = LinearSVC(max_iter=20000)\n",
    "\n",
    "# 학습 데이터의 단어 빈도 수 특징과 종속 변수로 학습\n",
    "model.fit(X_train_counts, twenty_train.target)\n",
    "\n",
    "# 검정 데이터의 단어 빈도수 특징으로 예측\n",
    "predicted = model.predict(X_test_count)\n",
    "\n",
    "# 예측 결과와 학습 데이터의 종속 변수가 같을 때의 평균 계산\n",
    "print(np.mean(predicted == twenty_test.target))"
   ]
  },
  {
   "cell_type": "markdown",
   "metadata": {},
   "source": [
    "#### 머신러닝 모델에 적용 - 샘플 코드 3"
   ]
  },
  {
   "cell_type": "code",
   "execution_count": 35,
   "metadata": {},
   "outputs": [
    {
     "name": "stdout",
     "output_type": "stream",
     "text": [
      "0.8149134487350199\n"
     ]
    }
   ],
   "source": [
    "# 문서 데이터를 TF-IDF로 변환하는 모델 생성\n",
    "tf_vec = TfidfVectorizer()\n",
    "\n",
    "# 학습 데이터에서 TF-IDF의 특징을 생성하고 학습 후 변환\n",
    "X_train_tfidf = tf_vec.fit_transform(twenty_train.data)\n",
    "\n",
    "# 검정 데이터에서 TF-IDF의 특징을 생성하고 검정 후 변환\n",
    "X_test_tfidf = tf_vec.transform(twenty_test.data)\n",
    "\n",
    "# 선형 서포트 벡터 머신 모델 생성\n",
    "model = LinearSVC(max_iter=20000)\n",
    "\n",
    "# 학습 데이터의 TF-IDF 특징과 종속 변수로 학습\n",
    "model.fit(X_train_tfidf, twenty_train.target)\n",
    "\n",
    "# 검정 데이터의 TF-IDF 특징으로 예측\n",
    "predicted = model.predict(X_test_tfidf)\n",
    "\n",
    "# 예측 결과와 학습 데이터의 종속 변수가 같을 때의 평균 계산\n",
    "print(np.mean(predicted == twenty_test.target))"
   ]
  },
  {
   "cell_type": "markdown",
   "metadata": {},
   "source": [
    "#### 픽셀 밝기 정보로 사용하는 숫자를 그대로 활용 - 샘플 코드"
   ]
  },
  {
   "cell_type": "code",
   "execution_count": 36,
   "metadata": {},
   "outputs": [
    {
     "name": "stdout",
     "output_type": "stream",
     "text": [
      "[255, 255, 170, 34, 102, 238, 255, 255, 255, 255, 34, 0, 85, 0, 170, 255, 255, 204, 0, 221, 255, 68, 119, 255, 255, 187, 51, 255, 255, 119, 119, 255, 255, 170, 119, 255, 255, 102, 119, 255, 255, 187, 68, 255, 238, 51, 136, 255, 255, 221, 17, 170, 85, 51, 255, 255, 255, 255, 153, 34, 85, 255, 255, 255]\n"
     ]
    }
   ],
   "source": [
    "from PIL import Image\n",
    "import numpy as np\n",
    "\n",
    "# 이미지 데이터 불러오기\n",
    "img = Image.open('zero_image.png').convert('L')\n",
    "\n",
    "# 이미지 데이터의 가로와 세로 픽셀 크기 저장\n",
    "width, height = img.size\n",
    "\n",
    "# 벡터 데이터를 넘파이의 배열 타입으로 저장할 변수 정의\n",
    "img_pixels = []\n",
    "\n",
    "for y in range(height):\n",
    "    for x in range(width):\n",
    "        # getpixel 함수로 지정한 위치의 픽셀 밝기 값 얻음\n",
    "        img_pixels.append(img.getpixel((x, y)))\n",
    "\n",
    "# 픽셀 밝기 값 출력\n",
    "print(img_pixels)"
   ]
  },
  {
   "cell_type": "markdown",
   "metadata": {},
   "source": [
    "#### 변환한 벡터 데이터를 머신러닝 모델에 적용하기 - 샘플 코드"
   ]
  },
  {
   "cell_type": "code",
   "execution_count": 37,
   "metadata": {},
   "outputs": [
    {
     "name": "stdout",
     "output_type": "stream",
     "text": [
      "              precision    recall  f1-score   support\n",
      "\n",
      "           0       0.97      0.99      0.98        88\n",
      "           1       0.91      0.93      0.92        91\n",
      "           2       0.92      0.93      0.92        86\n",
      "           3       0.85      0.91      0.88        91\n",
      "           4       0.89      0.92      0.90        92\n",
      "           5       0.83      0.81      0.82        91\n",
      "           6       0.91      0.99      0.95        91\n",
      "           7       0.97      0.93      0.95        89\n",
      "           8       0.92      0.77      0.84        88\n",
      "           9       0.89      0.84      0.86        92\n",
      "\n",
      "    accuracy                           0.90       899\n",
      "   macro avg       0.90      0.90      0.90       899\n",
      "weighted avg       0.90      0.90      0.90       899\n",
      "\n"
     ]
    }
   ],
   "source": [
    "from sklearn import datasets\n",
    "from sklearn import metrics\n",
    "from sklearn.ensemble import RandomForestClassifier\n",
    "\n",
    "# 흑백 필기체 숫자 이미지 데이터 불러오기\n",
    "digits = datasets.load_digits()\n",
    "\n",
    "# 이미지 데이터 개수를 n_samples에 저장\n",
    "n_samples = len(digits.images)\n",
    "\n",
    "# 모든 이미지 데이터의 픽셀 밝기 값을 행 벡터로 만들어 data에 저장\n",
    "data = digits.images.reshape((n_samples, -1))\n",
    "\n",
    "# 랜덤 포레스트 모델 생성\n",
    "model = RandomForestClassifier(n_estimators=10)\n",
    "\n",
    "# 전체 이미지 데이터의 절반에서 특징과 종속 변수를 설정해 학습\n",
    "model.fit(data[:n_samples // 2], digits.target[:n_samples // 2])\n",
    "\n",
    "# 종속 변수를 expected에 저장\n",
    "expected = digits.target[n_samples // 2:]\n",
    "\n",
    "# 특징으로 예측한 결과를 predicted에 저장\n",
    "predicted = model.predict(data[n_samples // 2:])\n",
    "\n",
    "# 종속 변수와 예측 결과를 이용해 정밀도, 재현율, F값을 계산해 출력\n",
    "print(metrics.classification_report(expected, predicted))"
   ]
  }
 ],
 "metadata": {
  "kernelspec": {
   "display_name": "Python 3",
   "language": "python",
   "name": "python3"
  },
  "language_info": {
   "codemirror_mode": {
    "name": "ipython",
    "version": 3
   },
   "file_extension": ".py",
   "mimetype": "text/x-python",
   "name": "python",
   "nbconvert_exporter": "python",
   "pygments_lexer": "ipython3",
   "version": "3.7.5"
  }
 },
 "nbformat": 4,
 "nbformat_minor": 2
}
